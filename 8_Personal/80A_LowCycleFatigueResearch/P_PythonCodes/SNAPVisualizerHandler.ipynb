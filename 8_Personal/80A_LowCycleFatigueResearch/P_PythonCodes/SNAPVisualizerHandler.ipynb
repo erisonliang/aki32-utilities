{
 "cells": [
  {
   "cell_type": "code",
   "execution_count": 4,
   "id": "d5fcbe35-7666-404f-b8cb-9719b66dd362",
   "metadata": {},
   "outputs": [],
   "source": [
    "# 梁可視化ライブラリ\n",
    "from SNAPVisualizer import SNAPBeamVisualizer\n",
    "\n",
    "%matplotlib inline"
   ]
  },
  {
   "cell_type": "markdown",
   "id": "33a599ae",
   "metadata": {},
   "source": [
    "# 💕SNAP分析"
   ]
  },
  {
   "cell_type": "markdown",
   "id": "32238bb9",
   "metadata": {},
   "source": [
    "## 🌟 可視化"
   ]
  },
  {
   "cell_type": "code",
   "execution_count": 6,
   "id": "8cd552da",
   "metadata": {},
   "outputs": [
    {
     "data": {
      "text/plain": [
       "SNAPVisualizer.SNAPBeamVisualizer"
      ]
     },
     "execution_count": 6,
     "metadata": {},
     "output_type": "execute_result"
    }
   ],
   "source": [
    "SNAPBeamVisualizer"
   ]
  },
  {
   "cell_type": "code",
   "execution_count": 7,
   "id": "70331398",
   "metadata": {},
   "outputs": [
    {
     "name": "stdout",
     "output_type": "stream",
     "text": [
      "終了\n"
     ]
    }
   ],
   "source": [
    "# 全組み合わせ呼び出し\n",
    "def ProcessOne(v, m, e):\n",
    "\n",
    "    building_excel_path = fR\"C:\\Users\\aki32\\Dropbox\\Documents\\02 東大関連\\1 研究室\\14 SNAP\\修論モデル\\01 model\\部材配置情報.xlsx\"\n",
    "    result_excel_path = fR\"C:\\Users\\aki32\\Dropbox\\Documents\\02 東大関連\\1 研究室\\14 SNAP\\修論モデル\\09 calc\\{v}\\{m}_{e}.xlsx\"\n",
    "\n",
    "    c = SNAPBeamVisualizer(building_excel_path, result_excel_path, grid_size=3)\n",
    "\n",
    "    # # ★★★★★ For getting all processed data\n",
    "\n",
    "    c.VisualizeBeamDamage_CUI(target_story=4, skip_show=True)\n",
    "    c.VisualizeBeamDamage(target_story=4, skip_show=True)\n",
    "\n",
    "    c.VisualizeSpecificBeamMuAmpHist_Loop(target_story=4, skip_show=True)\n",
    "    c.VisualizeBeamMuAmpHist(target_story=4, skip_show=True)\n",
    "\n",
    "    c.VisualizeBeamMuAmpPeak_CUI(target_story=4, skip_show=True)\n",
    "    c.VisualizeBeamMuAmpPeak(target_story=4, skip_show=True)\n",
    "\n",
    "\n",
    "    # # ★★★★★ ALL\n",
    "\n",
    "    # c.VisualizeFrame()\n",
    "\n",
    "    # c.VisualizeBeamName_CUI(target_story=4)\n",
    "    \n",
    "    # c.VisualizeBeamName(target_story=4)\n",
    "\n",
    "    # c.GetSpecificBeamDamage_CUI(\"96_i\")\n",
    "    # c.VisualizeBeamDamage_CUI(target_story=4)\n",
    "    # c.VisualizeBeamDamage(target_story=4)\n",
    "\n",
    "    # c.VisualizeSpecificBeamMuAmpHist(\"96_i\")\n",
    "    # c.VisualizeSpecificBeamMuAmpHist_Loop(5, skip_show=True)\n",
    "    # c.VisualizeBeamMuAmpHist_Test()\n",
    "    # c.VisualizeBeamMuAmpHist(target_story=4)\n",
    "\n",
    "    # c.VisualizeBeamMuAmpPeak_CUI(target_story=4)\n",
    "    # c.VisualizeBeamMuAmpPeak(target_story=4)\n",
    "\n",
    "\n",
    "    # # ★★★★★ Check\n",
    "\n",
    "    # pd.set_option('display.max_rows', None)\n",
    "    # pd.set_option('display.max_columns', None)\n",
    "    # df_beams=c.GetSpecificStoryBeams(target_story=4)\n",
    "    # print(df_beams)\n",
    "\n",
    "\n",
    "v = \"013-CKKMM006\"\n",
    "model_name = [\"S-A30-B仕-CKNKMM006--4\"]\n",
    "# model_name = [\"S-A30-B仕-CBCJ\", \"S-A30-B仕-CE4E\"]\n",
    "eq_name = [\"D1\"]\n",
    "# eq_name = [\"D2\"]\n",
    "# eq_name = [\"D1\", \"D2\", \"D3\", \"D4\", \"D5\", \"D6\", \"D7\", \"D8\", \"D9\", \"D10\", \"D11\", \"D12\", \"D13\", \"D14\", \"D15\"]\n",
    "# eq_name = [\"D1\", \"D2\", \"D3\", \"D4\", \"D5\", \"D6\", \"D7\", \"D8\", \"D9\", \"D10\", \"D11\", \"D12\", \"D13\", \"D14\", \"D15\", \"D16\", \"D17\", \"D18\", \"D19\", \"D20\", \"D21\", \"D22\", \"D23\"]\n",
    "\n",
    "for m in model_name:\n",
    "    for e in eq_name:\n",
    "        ProcessOne(v, m, e)\n",
    "\n",
    "print(\"終了\")"
   ]
  },
  {
   "cell_type": "code",
   "execution_count": 8,
   "id": "6dc697b9",
   "metadata": {},
   "outputs": [
    {
     "data": {
      "text/plain": [
       "['In',\n",
       " 'Out',\n",
       " 'ProcessOne',\n",
       " 'SNAPBeamVisualizer',\n",
       " 'SNAPVisualizer',\n",
       " '_',\n",
       " '_2',\n",
       " '_5',\n",
       " '_6',\n",
       " '__',\n",
       " '___',\n",
       " '__builtin__',\n",
       " '__builtins__',\n",
       " '__doc__',\n",
       " '__loader__',\n",
       " '__name__',\n",
       " '__package__',\n",
       " '__spec__',\n",
       " '__vsc_ipynb_file__',\n",
       " '_dh',\n",
       " '_i',\n",
       " '_i1',\n",
       " '_i2',\n",
       " '_i3',\n",
       " '_i4',\n",
       " '_i5',\n",
       " '_i6',\n",
       " '_i7',\n",
       " '_i8',\n",
       " '_ih',\n",
       " '_ii',\n",
       " '_iii',\n",
       " '_oh',\n",
       " 'e',\n",
       " 'eq_name',\n",
       " 'exit',\n",
       " 'get_ipython',\n",
       " 'm',\n",
       " 'model_name',\n",
       " 'quit',\n",
       " 'v']"
      ]
     },
     "execution_count": 8,
     "metadata": {},
     "output_type": "execute_result"
    }
   ],
   "source": [
    "dir()"
   ]
  },
  {
   "cell_type": "code",
   "execution_count": null,
   "id": "4166cff7",
   "metadata": {},
   "outputs": [],
   "source": []
  },
  {
   "cell_type": "code",
   "execution_count": null,
   "id": "0d39e26c",
   "metadata": {},
   "outputs": [],
   "source": []
  },
  {
   "cell_type": "code",
   "execution_count": null,
   "id": "437dfccd",
   "metadata": {},
   "outputs": [],
   "source": []
  },
  {
   "cell_type": "code",
   "execution_count": null,
   "id": "a43a863c",
   "metadata": {},
   "outputs": [],
   "source": []
  },
  {
   "cell_type": "code",
   "execution_count": null,
   "id": "98d841f7",
   "metadata": {},
   "outputs": [],
   "source": []
  }
 ],
 "metadata": {
  "kernelspec": {
   "display_name": "Python 3",
   "language": "python",
   "name": "python3"
  },
  "language_info": {
   "codemirror_mode": {
    "name": "ipython",
    "version": 3
   },
   "file_extension": ".py",
   "mimetype": "text/x-python",
   "name": "python",
   "nbconvert_exporter": "python",
   "pygments_lexer": "ipython3",
   "version": "3.10.6"
  },
  "vscode": {
   "interpreter": {
    "hash": "369f2c481f4da34e4445cda3fffd2e751bd1c4d706f27375911949ba6bb62e1c"
   }
  }
 },
 "nbformat": 4,
 "nbformat_minor": 5
}
